{
 "cells": [
  {
   "cell_type": "code",
   "execution_count": null,
   "source": [
    "class Solution:\n",
    "    def lengthOfLongestSubstring(self, string: str) -> int:\n",
    "      \n",
    "       answer = 0 \n",
    "    # map of all keys: the letters, with a value being the num times tit has occured \n",
    "       hashtable = {}\n",
    "    # the index  used to handle traversal \n",
    "       idx = 0 \n",
    "    #[a,   b, c, a, b ,c]\n",
    "    #[i,char]\n",
    "    #[i]    [char]\n",
    "    # placing  letters + their index slot into the hashtable \n",
    "       for char in range(len(string)):\n",
    "          if string[char] in hashtable: \n",
    "\t\t  # of these numbers the index  becomes the largest of the values \n",
    "             idx = max(hashtable[string[char]], idx)\n",
    "            # answer is the MAX of the following \n",
    "\t    # current answer | index +1\n",
    "          answer = max(answer, char - idx +1)\n",
    "\t  # this adds j+1 to the hash table  to the jth key \n",
    "          hashtable[string[char]] = char + 1 \n",
    "           \n",
    "       return answer"
   ],
   "outputs": [],
   "metadata": {}
  }
 ],
 "metadata": {
  "orig_nbformat": 4,
  "language_info": {
   "name": "python"
  }
 },
 "nbformat": 4,
 "nbformat_minor": 2
}