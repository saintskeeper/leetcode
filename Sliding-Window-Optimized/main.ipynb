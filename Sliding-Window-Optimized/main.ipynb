{
 "cells": [
  {
   "cell_type": "code",
   "execution_count": null,
   "source": [
    "class Solution:\n",
    "    def lengthOfLongestSubstring(self, string: str) -> int:\n",
    "      \n",
    "       answer = 0 \n",
    "    # map of all keys: the letters, with a value being the num times tit has occured \n",
    "       hashtable = {}\n",
    "    # the index  used to handle traversal \n",
    "       idx = 0 \n",
    "    \n",
    "       for j in range(len(string)):\n",
    "          if string[j] in hashtable: \n",
    "             idx = max(hashtable[string[j]], idx)\n",
    "            \n",
    "          answer = max(answer, j - idx +1)\n",
    "          hashtable[string[j]] = j + 1 \n",
    "           \n",
    "       return answer"
   ],
   "outputs": [],
   "metadata": {}
  }
 ],
 "metadata": {
  "orig_nbformat": 4,
  "language_info": {
   "name": "python"
  }
 },
 "nbformat": 4,
 "nbformat_minor": 2
}