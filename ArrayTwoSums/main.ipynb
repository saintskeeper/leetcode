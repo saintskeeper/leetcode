{
 "cells": [
  {
   "cell_type": "code",
   "execution_count": null,
   "source": [
    "class Solution:\n",
    "# Time O(n) | Space O(n)\n",
    "    def twoSum(self, nums, target):\n",
    "\t# map to keep track of indeciese and the value \n",
    "        hashmap = {}\n",
    "\t#iteration over the array \n",
    "        for i in range(len(nums)):\n",
    "\t\t#complement keeps track of the number needed to complete the loop \t\n",
    "            complement = target - nums[i]\n",
    "\t    #check to see if the needed num already exists in the hashmap \n",
    "            if complement in hashmap:\n",
    "\t\t    # if so return current index and  the value at key $completion\n",
    "                return [i, hashmap[complement]]\n",
    "\t#return the index\n",
    "            hashmap[nums[i]] = i"
   ],
   "outputs": [],
   "metadata": {}
  }
 ],
 "metadata": {
  "orig_nbformat": 4,
  "language_info": {
   "name": "python"
  }
 },
 "nbformat": 4,
 "nbformat_minor": 2
}